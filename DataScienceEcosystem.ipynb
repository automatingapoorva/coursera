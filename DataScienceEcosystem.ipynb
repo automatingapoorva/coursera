{
 "cells": [
  {
   "cell_type": "markdown",
   "id": "f5f1d583-8c7d-4d81-9270-9862de800575",
   "metadata": {},
   "source": [
    "# Data Science Tools and Ecosystem"
   ]
  },
  {
   "cell_type": "markdown",
   "id": "1e08a555-15f7-4436-97b8-c3df53c53cd6",
   "metadata": {},
   "source": [
    "In this notebook, Data Science Tools and Ecosystem are summarized."
   ]
  },
  {
   "cell_type": "markdown",
   "id": "e4fdeb14-bf45-4830-850b-6c5228ebc596",
   "metadata": {},
   "source": [
    "**Objectives:**\n",
    "- List of popular languages for Data Science\n",
    "- List of commonly used libraries for Data Science\n",
    "- Evaluating Arithematic Expressions in Python"
   ]
  },
  {
   "cell_type": "markdown",
   "id": "f05b108d-b443-4fba-80b0-17d622ff6a67",
   "metadata": {},
   "source": [
    "Some of the popular languages that Data Scientists use are:\n",
    "1. R\n",
    "2. Python\n",
    "3. SQL"
   ]
  },
  {
   "cell_type": "markdown",
   "id": "e9e90009-d990-4d86-8bfb-b9947856ff62",
   "metadata": {},
   "source": [
    "Some of the commonly used libraries used by Data Scientists include:\n",
    "1. Pandas\n",
    "2. NumPy\n",
    "3. Seaborn"
   ]
  },
  {
   "cell_type": "markdown",
   "id": "dcb9fc89-b6d3-4ff4-96f3-a3503f32ff99",
   "metadata": {},
   "source": [
    "| Data Science Tools |\n",
    "| ------------------ |\n",
    "| Jupyter Notebooks | \n",
    "| R Studio | \n",
    "| GitHub | "
   ]
  },
  {
   "cell_type": "markdown",
   "id": "00615ada-f341-4cb8-bea7-0f576ab2a58b",
   "metadata": {},
   "source": [
    "### Below are a few examples of evaluating arithmetic expressions in Python"
   ]
  },
  {
   "cell_type": "code",
   "execution_count": 23,
   "id": "a1024342-ddc1-4216-bb74-504899850240",
   "metadata": {},
   "outputs": [
    {
     "data": {
      "text/plain": [
       "17"
      ]
     },
     "execution_count": 23,
     "metadata": {},
     "output_type": "execute_result"
    }
   ],
   "source": [
    "# This a simple arithmetic expression to mutiply then add integers\n",
    "(3*4)+5"
   ]
  },
  {
   "cell_type": "code",
   "execution_count": 27,
   "id": "9ac881e9-f81f-42f4-91d3-030d52f97f9f",
   "metadata": {},
   "outputs": [
    {
     "data": {
      "text/plain": [
       "3.3333333333333335"
      ]
     },
     "execution_count": 27,
     "metadata": {},
     "output_type": "execute_result"
    }
   ],
   "source": [
    "# This will convert 200 minutes to hours by diving by 60\n",
    "200/60"
   ]
  },
  {
   "cell_type": "markdown",
   "id": "63559d1a-48c1-42fd-a60d-0300596c756d",
   "metadata": {},
   "source": [
    "## Author \n",
    "Apoorva Srivastava"
   ]
  },
  {
   "cell_type": "code",
   "execution_count": null,
   "id": "d448ad89-33f1-4fad-9409-5552cd2b7d7a",
   "metadata": {},
   "outputs": [],
   "source": []
  }
 ],
 "metadata": {
  "kernelspec": {
   "display_name": "Python 3 (ipykernel)",
   "language": "python",
   "name": "python3"
  },
  "language_info": {
   "codemirror_mode": {
    "name": "ipython",
    "version": 3
   },
   "file_extension": ".py",
   "mimetype": "text/x-python",
   "name": "python",
   "nbconvert_exporter": "python",
   "pygments_lexer": "ipython3",
   "version": "3.12.3"
  }
 },
 "nbformat": 4,
 "nbformat_minor": 5
}
